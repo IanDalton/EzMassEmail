{
 "cells": [
  {
   "cell_type": "code",
   "execution_count": 2,
   "metadata": {},
   "outputs": [],
   "source": [
    "from selenium import webdriver\n",
    "from selenium.webdriver.common.keys import Keys\n",
    "from selenium.webdriver.common.by import By\n",
    "import time,csv"
   ]
  },
  {
   "cell_type": "code",
   "execution_count": 25,
   "metadata": {},
   "outputs": [
    {
     "name": "stdout",
     "output_type": "stream",
     "text": [
      "['541130864655', '5492236248203', '5492234262533', '5492613392198', '541123241103', '5492233031340', '5492281469133', '542474660383', '54902284581839', '5492613436807', '5492613182003', '2616652435', '543413449157', '5492474674284', '5492234376794', '5492615682015', '542616149051', '543492574960', '5492613008762', '5492235383386', '5492235305867', '5492235815785', '5492235361173', '542474674502', '5492236945449', '543492623116', '5492234238429', '543415767175', '5492236038231', '5491160165386', '5492235518672', '5492235044552', '3512405800', '543515523849', '5493517570260', '5492914752247', '5492915006549', '5492914360740', '5492236699080', '542216245853', '5492216540299', '2215638166', '5492916441126', '3512264737', '2214185257', '3512299604', '3515285444', '2267511238', '5492267662379', '5492235358369', '5492236804147', '542215238333', '543516570149', '2612444689', '5493515955387', '1154883463', '543415848047', '543413751012', '5493563668618', '3487680645', '5492914404138', '543487474886', '5492284637071', '5492615987711', '5492914313413', '543513899742', '5492494520922', '5492494308262', '54152281597481', '5492284696851', '5492281549833', '5492281307136', '2216743911', '5492477587696', '5492235043969', '542477666327', '54247753660', '5492284357524', '542284476107', '11938785222', '3512168693', '2612015138', '542477509997', '2215365641', '5492214768260', '5492215391915', '543512694002', '5492215450297', '542284560137', '542494659525', '5493413812172', '5492234375491', '5492267451724', '542213140886', '542214816566', '5492267442938', '5491131074822', '1123890486', '5492616553933', '542644184349', '1154095557', '5491134652325', '5493516962888', '5492914297715', '5491144275113', '5492234268338', '5492268510762', '91156918160', '2323335674', '54902614191489', '5492615907159', '542213523154', '5491138160403', '543516509272', '541154823447', '5491166869763', '5401130961672', '5491165857408', '5491160263009', '5493517321299', '5491167420952', '541164430074', '5493512372527', '5993512491832', '5492995961258', '542645835135', '5491132319187', '5492995784415', '5491124600810', '542944486651', '543624713159', '541138935873', '5491122641949', '1137645552', '1124672212', '5493624667660', '543442501082', '92323587061']\n",
      "138\n",
      "135\n"
     ]
    }
   ],
   "source": [
    "with open(\"table_0.csv\", \"r\",encoding=\"utf-8\") as f:\n",
    "    reader = csv.reader(f)\n",
    "    numeros = []\n",
    "    for row in reader:\n",
    "        for column in row:\n",
    "            numeros.append(column) if column.isnumeric() else None\n",
    "\n",
    "print(numeros)\n",
    "print(len(numeros))\n",
    "numeros.pop(numeros.index('5491134652325'))\n",
    "numeros.pop(numeros.index('1154095557'))\n",
    "numeros.pop(numeros.index('5491138160403'))\n",
    "print(len(numeros))"
   ]
  },
  {
   "cell_type": "code",
   "execution_count": 6,
   "metadata": {},
   "outputs": [],
   "source": [
    "def anotar(numero):\n",
    "    with open(\"numbers.txt\", \"a\",encoding=\"utf-8\") as f:\n",
    "        f.write(numero)\n",
    "        f.write(\"\\n\")"
   ]
  },
  {
   "cell_type": "code",
   "execution_count": 5,
   "metadata": {},
   "outputs": [
    {
     "name": "stdout",
     "output_type": "stream",
     "text": [
      "Logged in\n"
     ]
    }
   ],
   "source": [
    "driver = webdriver.Edge()\n",
    "driver.get(\"https://web.whatsapp.com/\")\n",
    "driver.implicitly_wait(10)\n",
    "time.sleep(5)\n",
    "while True:\n",
    "    try:\n",
    "        while driver.find_element(By.XPATH,\"//*[@id='app']/div/div/div[2]\") == \"WHATSAPP WEB\":\n",
    "            time.sleep(10)\n",
    "        else:\n",
    "            print(\"Logged in\")\n",
    "            break\n",
    "    except:\n",
    "        print(\"QR Code not found\")\n",
    "        time.sleep(10)\n",
    "        pass"
   ]
  },
  {
   "cell_type": "code",
   "execution_count": 7,
   "metadata": {},
   "outputs": [],
   "source": [
    "#Click into the search box\n",
    "def get_number(number):\n",
    "    driver.get(f\"https://wa.me/{number}\")\n",
    "    time.sleep(3)\n",
    "    url = driver.find_element(By.ID,\"action-button\")\n",
    "    \n",
    "    driver.get(url.get_attribute(\"href\"))"
   ]
  },
  {
   "cell_type": "code",
   "execution_count": 8,
   "metadata": {},
   "outputs": [],
   "source": [
    "def send_message(message):\n",
    "    textbox = driver.find_element(By.XPATH,\"//*[@id='main']/footer/div[1]/div/span[2]/div/div[2]/div[1]/div/div[1]/p\")\n",
    "    textbox.send_keys(message)\n",
    "    textbox.send_keys(Keys.ENTER)"
   ]
  },
  {
   "cell_type": "code",
   "execution_count": 9,
   "metadata": {},
   "outputs": [],
   "source": [
    "def delete_chat(test=False):\n",
    "    #eliminar el chat\n",
    "    #Abro el menu\n",
    "    driver.find_element(By.XPATH,\"//*[@id='main']/header/div[3]/div/div[3]/div/div/span\").click()\n",
    "    time.sleep(0.5)\n",
    "    #Selecciono borrar chat\n",
    "    driver.find_element(By.XPATH,\"//*[@id='app']/div/span[4]/div/ul/div/div/li[7]\").click()\n",
    "    time.sleep(0.5)\n",
    "    #Confirmo\n",
    "    if not test:\n",
    "        driver.find_element(By.XPATH,\"/html/body/div[1]/div/span[2]/div/div/div/div/div/div/div[3]/div/button[2]/div/div\").click()"
   ]
  },
  {
   "cell_type": "code",
   "execution_count": 26,
   "metadata": {},
   "outputs": [
    {
     "name": "stdout",
     "output_type": "stream",
     "text": [
      "135 109\n",
      "72\n"
     ]
    }
   ],
   "source": [
    "#enviados = []\n",
    "#enviados = ['543413449157', '5492474674284', '5492234376794', '5492615682015', '542616149051', '543492574960', '5492613008762', '5492235383386', '5492235305867', '5492235815785', '5492235361173', '542474674502', '5492236945449', '543492623116', '5492234238429', '543415767175', '5492236038231', '5491160165386', '5492235518672', '5492235044552', '3512405800', '543515523849', '5493517570260', '5492914752247', '5492915006549', '5492236699080', '542216245853', '5492216540299', '2215638166', '5492916441126', '3512264737', '2214185257', '3512299604', '3515285444', '2267511238', '5492267662379', '5492235358369', '5492236804147', '542215238333', '543516570149', '2612444689', '5493515955387', '1154883463', '543415848047', '543413751012', '5493563668618', '3487680645', '5492914404138', '543487474886', '5492284637071', '5492615987711', '5492914313413']\n",
    "enviados = []\n",
    "\n",
    "with open(\"numbers.txt\", \"r\",encoding=\"utf-8\") as f:\n",
    "    for linea in f.readlines():\n",
    "        enviados.append(linea.strip())\n",
    "        #print(linea.strip())\n",
    "print(len(numeros),len(enviados))\n",
    "for enviado in enviados:\n",
    "    try:\n",
    "        numeros.pop(numeros.index(enviado))\n",
    "    except:\n",
    "        pass\n",
    "print(len(numeros))\n",
    "enviados = []"
   ]
  },
  {
   "cell_type": "code",
   "execution_count": 27,
   "metadata": {},
   "outputs": [
    {
     "name": "stdout",
     "output_type": "stream",
     "text": [
      "Message: no such element: Unable to locate element: {\"method\":\"xpath\",\"selector\":\"//*[@id='main']/footer/div[1]/div/span[2]/div/div[2]/div[1]/div/div[1]/p\"}\n",
      "  (Session info: MicrosoftEdge=116.0.1938.62); For documentation on this error, please visit: https://www.selenium.dev/documentation/webdriver/troubleshooting/errors#no-such-element-exception\n",
      "Stacktrace:\n",
      "\tGetHandleVerifier [0x00007FF6AD7C3D72+61490]\n",
      "\tMicrosoft::Applications::Events::EventProperty::~EventProperty [0x00007FF6AD755FC2+740594]\n",
      "\t(No symbol) [0x00007FF6AD52B8AE]\n",
      "\t(No symbol) [0x00007FF6AD5732F4]\n",
      "\t(No symbol) [0x00007FF6AD573405]\n",
      "\t(No symbol) [0x00007FF6AD5AFCE7]\n",
      "\t(No symbol) [0x00007FF6AD59394F]\n",
      "\t(No symbol) [0x00007FF6AD567021]\n",
      "\t(No symbol) [0x00007FF6AD5ACE21]\n",
      "\t(No symbol) [0x00007FF6AD5936E3]\n",
      "\t(No symbol) [0x00007FF6AD565EAA]\n",
      "\t(No symbol) [0x00007FF6AD56518B]\n",
      "\t(No symbol) [0x00007FF6AD566634]\n",
      "\tMicrosoft::Applications::Events::ILogManager::DispatchEventBroadcast [0x00007FF6AD988D29+1207369]\n",
      "\t(No symbol) [0x00007FF6AD5E5304]\n",
      "\tMicrosoft::Applications::Events::EventProperty::~EventProperty [0x00007FF6AD6A90E1+32273]\n",
      "\tMicrosoft::Applications::Events::EventProperty::~EventProperty [0x00007FF6AD6A19D9+1801]\n",
      "\tMicrosoft::Applications::Events::ILogManager::DispatchEventBroadcast [0x00007FF6AD987904+1202212]\n",
      "\tMicrosoft::Applications::Events::ILogConfiguration::operator* [0x00007FF6AD75E958+19784]\n",
      "\tMicrosoft::Applications::Events::ILogConfiguration::operator* [0x00007FF6AD75AE14+4612]\n",
      "\tMicrosoft::Applications::Events::ILogConfiguration::operator* [0x00007FF6AD75AF46+4918]\n",
      "\tMicrosoft::Applications::Events::EventProperty::~EventProperty [0x00007FF6AD74F411+713025]\n",
      "\tBaseThreadInitThunk [0x00007FFDD4BA26AD+29]\n",
      "\tRtlUserThreadStart [0x00007FFDD572AA68+40]\n",
      "\n",
      "Error con 54902284581839\n",
      "No se envio un mensaje a 5492914360740\n"
     ]
    },
    {
     "ename": "KeyboardInterrupt",
     "evalue": "Interrupted by user",
     "output_type": "error",
     "traceback": [
      "\u001b[1;31m---------------------------------------------------------------------------\u001b[0m",
      "\u001b[1;31mKeyboardInterrupt\u001b[0m                         Traceback (most recent call last)",
      "Cell \u001b[1;32mIn[27], line 8\u001b[0m\n\u001b[0;32m      6\u001b[0m get_number(n)\n\u001b[0;32m      7\u001b[0m time\u001b[39m.\u001b[39msleep(\u001b[39m2\u001b[39m)\n\u001b[1;32m----> 8\u001b[0m valor \u001b[39m=\u001b[39m \u001b[39minput\u001b[39;49m(\u001b[39m\"\u001b[39;49m\u001b[39mPress Enter to continue...\u001b[39;49m\u001b[39m\"\u001b[39;49m) \u001b[39mif\u001b[39;00m \u001b[39mnot\u001b[39;00m okay \u001b[39melse\u001b[39;00m \u001b[39m\"\u001b[39m\u001b[39mstop\u001b[39m\u001b[39m\"\u001b[39m\n\u001b[0;32m      9\u001b[0m \u001b[39mif\u001b[39;00m valor\u001b[39m==\u001b[39m\u001b[39m\"\u001b[39m\u001b[39mstop\u001b[39m\u001b[39m\"\u001b[39m:\n\u001b[0;32m     10\u001b[0m    okay \u001b[39m=\u001b[39m \u001b[39mTrue\u001b[39;00m\n",
      "File \u001b[1;32m~\\AppData\\Roaming\\Python\\Python311\\site-packages\\ipykernel\\kernelbase.py:1202\u001b[0m, in \u001b[0;36mKernel.raw_input\u001b[1;34m(self, prompt)\u001b[0m\n\u001b[0;32m   1200\u001b[0m     msg \u001b[39m=\u001b[39m \u001b[39m\"\u001b[39m\u001b[39mraw_input was called, but this frontend does not support input requests.\u001b[39m\u001b[39m\"\u001b[39m\n\u001b[0;32m   1201\u001b[0m     \u001b[39mraise\u001b[39;00m StdinNotImplementedError(msg)\n\u001b[1;32m-> 1202\u001b[0m \u001b[39mreturn\u001b[39;00m \u001b[39mself\u001b[39;49m\u001b[39m.\u001b[39;49m_input_request(\n\u001b[0;32m   1203\u001b[0m     \u001b[39mstr\u001b[39;49m(prompt),\n\u001b[0;32m   1204\u001b[0m     \u001b[39mself\u001b[39;49m\u001b[39m.\u001b[39;49m_parent_ident[\u001b[39m\"\u001b[39;49m\u001b[39mshell\u001b[39;49m\u001b[39m\"\u001b[39;49m],\n\u001b[0;32m   1205\u001b[0m     \u001b[39mself\u001b[39;49m\u001b[39m.\u001b[39;49mget_parent(\u001b[39m\"\u001b[39;49m\u001b[39mshell\u001b[39;49m\u001b[39m\"\u001b[39;49m),\n\u001b[0;32m   1206\u001b[0m     password\u001b[39m=\u001b[39;49m\u001b[39mFalse\u001b[39;49;00m,\n\u001b[0;32m   1207\u001b[0m )\n",
      "File \u001b[1;32m~\\AppData\\Roaming\\Python\\Python311\\site-packages\\ipykernel\\kernelbase.py:1245\u001b[0m, in \u001b[0;36mKernel._input_request\u001b[1;34m(self, prompt, ident, parent, password)\u001b[0m\n\u001b[0;32m   1242\u001b[0m \u001b[39mexcept\u001b[39;00m \u001b[39mKeyboardInterrupt\u001b[39;00m:\n\u001b[0;32m   1243\u001b[0m     \u001b[39m# re-raise KeyboardInterrupt, to truncate traceback\u001b[39;00m\n\u001b[0;32m   1244\u001b[0m     msg \u001b[39m=\u001b[39m \u001b[39m\"\u001b[39m\u001b[39mInterrupted by user\u001b[39m\u001b[39m\"\u001b[39m\n\u001b[1;32m-> 1245\u001b[0m     \u001b[39mraise\u001b[39;00m \u001b[39mKeyboardInterrupt\u001b[39;00m(msg) \u001b[39mfrom\u001b[39;00m \u001b[39mNone\u001b[39;00m\n\u001b[0;32m   1246\u001b[0m \u001b[39mexcept\u001b[39;00m \u001b[39mException\u001b[39;00m:\n\u001b[0;32m   1247\u001b[0m     \u001b[39mself\u001b[39m\u001b[39m.\u001b[39mlog\u001b[39m.\u001b[39mwarning(\u001b[39m\"\u001b[39m\u001b[39mInvalid Message:\u001b[39m\u001b[39m\"\u001b[39m, exc_info\u001b[39m=\u001b[39m\u001b[39mTrue\u001b[39;00m)\n",
      "\u001b[1;31mKeyboardInterrupt\u001b[0m: Interrupted by user"
     ]
    }
   ],
   "source": [
    "#Hola! Estoy armando el grupo de los que vamos a utah. Te dejo el link: https://chat.whatsapp.com/Lkdc4MSHp5IGKWCy0nQ77d\n",
    "enviados = []\n",
    "okay = False\n",
    "for n in numeros:\n",
    "    try:\n",
    "        get_number(n)\n",
    "        time.sleep(2)\n",
    "        valor = input(\"Press Enter to continue...\") if not okay else \"stop\"\n",
    "        if valor==\"stop\":\n",
    "           okay = True\n",
    "        elif valor:\n",
    "           print(\"No se envio un mensaje a\",n)\n",
    "           continue\n",
    "        send_message(\"Hola! Estoy armando el grupo de los que vamos a utah. Te dejo el link: https://chat.whatsapp.com/Lkdc4MSHp5IGKWCy0nQ77d\")\n",
    "        time.sleep(0.5)\n",
    "        enviados.append(n)\n",
    "        #delete_chat()\n",
    "        \n",
    "        time.sleep(2)\n",
    "        anotar(n)\n",
    "        print(f\"Mensaje enviado a {n}\")\n",
    "        time.sleep(2)\n",
    "    except Exception as e:\n",
    "        print(e)\n",
    "        print(f\"Error con {n}\")\n",
    "        pass\n",
    "    #542474660383"
   ]
  },
  {
   "cell_type": "code",
   "execution_count": 5,
   "metadata": {},
   "outputs": [],
   "source": [
    "numeros = numeros[len(numeros)-126:]"
   ]
  },
  {
   "cell_type": "code",
   "execution_count": null,
   "metadata": {},
   "outputs": [
    {
     "ename": "KeyboardInterrupt",
     "evalue": "",
     "output_type": "error",
     "traceback": [
      "\u001b[1;31m---------------------------------------------------------------------------\u001b[0m",
      "\u001b[1;31mKeyboardInterrupt\u001b[0m                         Traceback (most recent call last)",
      "Cell \u001b[1;32mIn[17], line 3\u001b[0m\n\u001b[0;32m      1\u001b[0m nu \u001b[39m=\u001b[39m [\u001b[39m'\u001b[39m\u001b[39m1154095557\u001b[39m\u001b[39m'\u001b[39m,\u001b[39m'\u001b[39m\u001b[39m5491138160403\u001b[39m\u001b[39m'\u001b[39m]\n\u001b[0;32m      2\u001b[0m \u001b[39mfor\u001b[39;00m n \u001b[39min\u001b[39;00m nu:\n\u001b[1;32m----> 3\u001b[0m     get_number(n)\n\u001b[0;32m      4\u001b[0m     send_message(\u001b[39m\"\u001b[39m\u001b[39mHola, soy un bot. Estoy probando un programa que envía mensajes a todos los contactos de una lista. Si recibiste este mensaje, por favor, no respondas. Gracias.\u001b[39m\u001b[39m\"\u001b[39m)\n\u001b[0;32m      5\u001b[0m     time\u001b[39m.\u001b[39msleep(\u001b[39m0.5\u001b[39m)\n",
      "Cell \u001b[1;32mIn[4], line 4\u001b[0m, in \u001b[0;36mget_number\u001b[1;34m(number)\u001b[0m\n\u001b[0;32m      2\u001b[0m \u001b[39mdef\u001b[39;00m \u001b[39mget_number\u001b[39m(number):\n\u001b[0;32m      3\u001b[0m     driver\u001b[39m.\u001b[39mget(\u001b[39mf\u001b[39m\u001b[39m\"\u001b[39m\u001b[39mhttps://wa.me/\u001b[39m\u001b[39m{\u001b[39;00mnumber\u001b[39m}\u001b[39;00m\u001b[39m\"\u001b[39m)\n\u001b[1;32m----> 4\u001b[0m     time\u001b[39m.\u001b[39msleep(\u001b[39m3\u001b[39m)\n\u001b[0;32m      5\u001b[0m     url \u001b[39m=\u001b[39m driver\u001b[39m.\u001b[39mfind_element(By\u001b[39m.\u001b[39mID,\u001b[39m\"\u001b[39m\u001b[39maction-button\u001b[39m\u001b[39m\"\u001b[39m)\n\u001b[0;32m      7\u001b[0m     driver\u001b[39m.\u001b[39mget(url\u001b[39m.\u001b[39mget_attribute(\u001b[39m\"\u001b[39m\u001b[39mhref\u001b[39m\u001b[39m\"\u001b[39m))\n",
      "\u001b[1;31mKeyboardInterrupt\u001b[0m: "
     ]
    }
   ],
   "source": [
    "nu = ['1154095557','5491138160403']\n",
    "for n in nu:\n",
    "    get_number(n)\n",
    "    \n",
    "    send_message(\"Hola, soy un bot. Estoy probando un programa que envía mensajes a todos los contactos de una lista. Si recibiste este mensaje, por favor, no respondas. Gracias.\")\n",
    "    time.sleep(0.5)\n",
    "    #delete_chat(test=True)\n",
    "    \n",
    "    time.sleep(2)\n",
    "    print(f\"Mensaje enviado a {n}\")\n",
    "    time.sleep(2)"
   ]
  }
 ],
 "metadata": {
  "kernelspec": {
   "display_name": "Python 3",
   "language": "python",
   "name": "python3"
  },
  "language_info": {
   "codemirror_mode": {
    "name": "ipython",
    "version": 3
   },
   "file_extension": ".py",
   "mimetype": "text/x-python",
   "name": "python",
   "nbconvert_exporter": "python",
   "pygments_lexer": "ipython3",
   "version": "3.11.4"
  },
  "orig_nbformat": 4
 },
 "nbformat": 4,
 "nbformat_minor": 2
}
